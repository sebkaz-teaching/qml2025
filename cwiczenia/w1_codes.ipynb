{
 "cells": [
  {
   "cell_type": "code",
   "execution_count": null,
   "id": "2c3d6518",
   "metadata": {},
   "outputs": [],
   "source": [
    "import torch\n",
    "from torch.autograd import Variable\n",
    "\n",
    "data = torch.tensor([(0. , 1.), (0.1 , 1.1), (0.2 , 1.2)])\n",
    "\n"
   ]
  },
  {
   "cell_type": "code",
   "execution_count": null,
   "id": "b5998f1f",
   "metadata": {},
   "outputs": [],
   "source": [
    "def model(phi, x=None):\n",
    "    return x*phi\n",
    "\n"
   ]
  },
  {
   "cell_type": "code",
   "execution_count": null,
   "id": "80e27844",
   "metadata": {},
   "outputs": [],
   "source": [
    "def loss(a, b):\n",
    "    return torch.abs(a-b) ** 2\n",
    "\n",
    "def avg_loss(phi):\n",
    "    c = 0 \n",
    "    for x, y in data:\n",
    "        c += loss(model(phi, x=x), y)\n",
    "    return c\n",
    "\n"
   ]
  },
  {
   "cell_type": "code",
   "execution_count": null,
   "id": "2a4e3d95",
   "metadata": {},
   "outputs": [],
   "source": [
    "phi_ = Variable(torch.tensor(0.1), requires_grad=True)\n",
    "opt = torch.optim.Adam([phi_],lr=0.2)\n",
    "\n",
    "for i in range(5):\n",
    "    l = avg_loss(phi_)\n",
    "    print(f\"cost: {l}, for phi: {phi_}\")\n",
    "    l.backward()\n",
    "    opt.step()"
   ]
  }
 ],
 "metadata": {
  "kernelspec": {
   "display_name": "venv",
   "language": "python",
   "name": "python3"
  },
  "language_info": {
   "name": "python",
   "version": "3.13.7"
  }
 },
 "nbformat": 4,
 "nbformat_minor": 5
}
